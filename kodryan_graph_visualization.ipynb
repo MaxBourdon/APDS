{
 "cells": [
  {
   "cell_type": "markdown",
   "metadata": {},
   "source": [
    "# Кодрян М. С. 517 группа\n",
    "## ПЗАД-задание: Визуализация графа [Crime](http://konect.uni-koblenz.de/networks/moreno_crime)"
   ]
  },
  {
   "cell_type": "markdown",
   "metadata": {},
   "source": [
    "This bipartite network contains persons who appeared in at least one crime case as either a suspect, a victim, a witness or both a suspect and victim at the same time. A left node represents a person and a right node represents a crime. An edge between two nodes shows that the left node was involved in the crime represented by the right node."
   ]
  },
  {
   "cell_type": "markdown",
   "metadata": {},
   "source": [
    "**BACKGROUND** \n",
    "\n",
    "In the 1990s Rick Rosenfeld and Norm White used police records to collect data on crime in St. Louis. They began with five homicides and recorded the names of all the individuals who had been involved as victims, suspects or witnesses. They then explored the files and recorded all the other crimes in which those same individuals appeared. This snowball process was continued until they had data on 557 crime events. Those events involved 870 participants of which: 569 appeared as victims 682 appeared as suspects 195 appeared as witnesses, and 41 were dual (they were recorded both as victims and suspects in the same crime). Their data appear, then, as an 870 by 557, individual by crime event matrix. Victims are coded as 1, suspects as 2, witnesses as 3 and duals as 4.\n",
    "In addition Rosenfeld and White recorded the sex of each individual."
   ]
  },
  {
   "cell_type": "markdown",
   "metadata": {},
   "source": [
    "## Basic visualization"
   ]
  },
  {
   "cell_type": "code",
   "execution_count": 1,
   "metadata": {},
   "outputs": [],
   "source": [
    "person_sex = []\n",
    "with open(\"../data/ent.moreno_crime_crime.person.sex\") as f:\n",
    "    for l in f.readlines():\n",
    "        person_sex.append('M' if '1' in l else 'F')"
   ]
  },
  {
   "cell_type": "code",
   "execution_count": 2,
   "metadata": {},
   "outputs": [],
   "source": [
    "import re\n",
    "person_name = []\n",
    "with open(\"../data/ent.moreno_crime_crime.person.name\") as f:\n",
    "    for l in f.readlines():\n",
    "        person_name.append(' '.join(re.findall('[A-Z][^A-Z]*', l.strip())))"
   ]
  },
  {
   "cell_type": "code",
   "execution_count": 3,
   "metadata": {},
   "outputs": [],
   "source": [
    "edge_inds = []\n",
    "\n",
    "with open(\"../data/moreno_crime_graph_adj_final\") as f:\n",
    "    for l in f.readlines():\n",
    "        edge_inds.append(tuple(l.strip().split()))\n",
    "\n",
    "person_crime = dict()\n",
    "with open(\"../data/rel.moreno_crime_crime.person.role\") as f:\n",
    "    for i, l in enumerate(f.readlines()):\n",
    "        person_crime[edge_inds[i]] = l.strip()"
   ]
  },
  {
   "cell_type": "code",
   "execution_count": 4,
   "metadata": {},
   "outputs": [],
   "source": [
    "import plotly.plotly as py\n",
    "import plotly.graph_objs as go\n",
    "\n",
    "import matplotlib.pyplot as plt\n",
    "%matplotlib inline\n",
    "\n",
    "import networkx as nx"
   ]
  },
  {
   "cell_type": "code",
   "execution_count": 5,
   "metadata": {},
   "outputs": [],
   "source": [
    "G = nx.read_adjlist(\"../data/moreno_crime_graph_adj_final\")"
   ]
  },
  {
   "cell_type": "code",
   "execution_count": 6,
   "metadata": {},
   "outputs": [],
   "source": [
    "person_nodes = [node for node in G.nodes if node.startswith('p')]\n",
    "crime_nodes = [node for node in G.nodes if node.startswith('c')]\n",
    "pos = nx.bipartite_layout(G, person_nodes, align='horizontal')"
   ]
  },
  {
   "cell_type": "code",
   "execution_count": 7,
   "metadata": {},
   "outputs": [],
   "source": [
    "for sex, name, node in zip(person_sex, person_name, person_nodes):\n",
    "    G.nodes[node][\"Name\"] = name\n",
    "    G.nodes[node][\"Sex\"] = sex"
   ]
  },
  {
   "cell_type": "code",
   "execution_count": 8,
   "metadata": {},
   "outputs": [],
   "source": [
    "for p, c in edge_inds:\n",
    "    role = person_crime[(p, c)]\n",
    "    G.edges[p, c][\"Role\"] = role"
   ]
  },
  {
   "cell_type": "code",
   "execution_count": 9,
   "metadata": {},
   "outputs": [],
   "source": [
    "role_color = {\"Victim\": \"green\", \"Suspect\": \"red\", \"Witness\": \"blue\", \"Victim Suspect\": \"orange\"}\n",
    "\n",
    "def get_edge_trace_role(role, color):\n",
    "    edge_trace = go.Scatter(\n",
    "        x=[],\n",
    "        y=[],\n",
    "        line=dict(width=0.5, color=color),\n",
    "        hoverinfo='none',\n",
    "        name=role,\n",
    "        mode='lines')\n",
    "    for p, c, data in G.edges(data=True):\n",
    "        if data[\"Role\"] == role:\n",
    "            x0, y0 = pos[p]\n",
    "            x1, y1 = pos[c]\n",
    "            edge_trace['x'] += tuple([x0, x1, None])\n",
    "            edge_trace['y'] += tuple([y0, y1, None])\n",
    "    return edge_trace\n",
    "\n",
    "edge_traces = [get_edge_trace_role(role, color) for role, color in role_color.items()]\n",
    "\n",
    "node_trace = go.Scatter(\n",
    "    x=[],\n",
    "    y=[],\n",
    "    text=[],\n",
    "    mode='markers',\n",
    "    hoverinfo='text',\n",
    "    name=\"Nodes\",\n",
    "    marker=dict(\n",
    "        showscale=True,\n",
    "        # colorscale options\n",
    "        #'Greys' | 'YlGnBu' | 'Greens' | 'YlOrRd' | 'Bluered' | 'RdBu' |\n",
    "        #'Reds' | 'Blues' | 'Picnic' | 'Rainbow' | 'Portland' | 'Jet' |\n",
    "        #'Hot' | 'Blackbody' | 'Earth' | 'Electric' | 'Viridis' |\n",
    "        colorscale='YlGnBu',\n",
    "        reversescale=True,\n",
    "        color=[],\n",
    "        size=10,\n",
    "        colorbar=dict(\n",
    "            thickness=15,\n",
    "            title='Node Connections',\n",
    "            xanchor='left',\n",
    "            titleside='right'\n",
    "        ),\n",
    "        line=dict(width=2)))\n",
    "\n",
    "for node in G.nodes():\n",
    "    x, y = pos[node]\n",
    "    node_trace['x'] += tuple([x])\n",
    "    node_trace['y'] += tuple([y])"
   ]
  },
  {
   "cell_type": "code",
   "execution_count": 10,
   "metadata": {},
   "outputs": [],
   "source": [
    "for node, adjacencies in enumerate(G.adjacency()):\n",
    "    node_trace['marker']['color'] += tuple([len(adjacencies[1])])\n",
    "    node_info = '# of connections: ' + str(len(adjacencies[1])) + '<br>Type: '\n",
    "    p = adjacencies[0]\n",
    "    if p in person_nodes:\n",
    "        node_info += 'Person<br>Name: {0}'.format(G.nodes[p][\"Name\"]) + '<br>Sex: {0}'.format(G.nodes[p][\"Sex\"])\n",
    "    else:\n",
    "        node_info += 'Crime'\n",
    "    node_trace['text'] += tuple([node_info])"
   ]
  },
  {
   "cell_type": "code",
   "execution_count": 11,
   "metadata": {},
   "outputs": [
    {
     "data": {
      "text/html": [
       "<iframe id=\"igraph\" scrolling=\"no\" style=\"border:none;\" seamless=\"seamless\" src=\"https://plot.ly/~MaxBourdon/2.embed\" height=\"525px\" width=\"100%\"></iframe>"
      ],
      "text/plain": [
       "<plotly.tools.PlotlyDisplay object>"
      ]
     },
     "execution_count": 11,
     "metadata": {},
     "output_type": "execute_result"
    }
   ],
   "source": [
    "fig = go.Figure(data=edge_traces + [node_trace],\n",
    "             layout=go.Layout(\n",
    "                title='<br>Crime network graph',\n",
    "                titlefont=dict(size=16),\n",
    "                showlegend=True,\n",
    "                legend=dict(x=-.15, y=0.9),\n",
    "                hovermode='closest',\n",
    "                margin=dict(b=20,l=5,r=5,t=40),\n",
    "                # annotations=[ dict(\n",
    "                #     text=\"Python code: <a href='https://plot.ly/ipython-notebooks/network-graphs/'> https://plot.ly/ipython-notebooks/network-graphs/</a>\",\n",
    "                #     showarrow=False,\n",
    "                #     xref=\"paper\", yref=\"paper\",\n",
    "                #     x=0.005, y=-0.002 ) ],\n",
    "                xaxis=dict(showgrid=False, zeroline=False, showticklabels=False),\n",
    "                yaxis=dict(showgrid=False, zeroline=False, showticklabels=False)))\n",
    "\n",
    "py.iplot(fig, filename='crime_graph')"
   ]
  },
  {
   "cell_type": "markdown",
   "metadata": {},
   "source": [
    "## Some stats"
   ]
  },
  {
   "cell_type": "code",
   "execution_count": 12,
   "metadata": {},
   "outputs": [],
   "source": [
    "import numpy as np\n",
    "import plotly.figure_factory as ff"
   ]
  },
  {
   "cell_type": "code",
   "execution_count": 13,
   "metadata": {},
   "outputs": [
    {
     "data": {
      "text/html": [
       "<iframe id=\"igraph\" scrolling=\"no\" style=\"border:none;\" seamless=\"seamless\" src=\"https://plot.ly/~MaxBourdon/4.embed\" height=\"525px\" width=\"100%\"></iframe>"
      ],
      "text/plain": [
       "<plotly.tools.PlotlyDisplay object>"
      ]
     },
     "execution_count": 13,
     "metadata": {},
     "output_type": "execute_result"
    }
   ],
   "source": [
    "degree_sequence_person = np.array([d for n, d in G.degree() if n in person_nodes])\n",
    "degree_sequence_crime = np.array([d for n, d in G.degree() if n in crime_nodes])\n",
    "\n",
    "hist_deg_person = go.Histogram(x=degree_sequence_person,\n",
    "                               histnorm='probability',\n",
    "                               name=\"Person\")\n",
    "\n",
    "hist_deg_crime = go.Histogram(x=degree_sequence_crime,\n",
    "                              histnorm='probability',\n",
    "                              name=\"Crime\")\n",
    "\n",
    "data = [hist_deg_person, hist_deg_crime]\n",
    "layout = go.Layout(title='<br>Degree distribution histogram',\n",
    "                   xaxis=dict(title=\"Degree\"),\n",
    "                   yaxis=dict(title=\"Frequency\"))\n",
    "\n",
    "fig = go.Figure(data, layout)\n",
    "\n",
    "py.iplot(fig, filename='crime_deg_hist')"
   ]
  },
  {
   "cell_type": "code",
   "execution_count": 14,
   "metadata": {},
   "outputs": [
    {
     "data": {
      "text/html": [
       "<iframe id=\"igraph\" scrolling=\"no\" style=\"border:none;\" seamless=\"seamless\" src=\"https://plot.ly/~MaxBourdon/6.embed\" height=\"525px\" width=\"100%\"></iframe>"
      ],
      "text/plain": [
       "<plotly.tools.PlotlyDisplay object>"
      ]
     },
     "execution_count": 14,
     "metadata": {},
     "output_type": "execute_result"
    }
   ],
   "source": [
    "x, y = np.unique(degree_sequence_person, return_counts=True)\n",
    "trace_per = go.Scatter(\n",
    "    x=x, y=y,\n",
    "    name=\"Person\",\n",
    "    mode='lines+markers'\n",
    ")\n",
    "\n",
    "x, y = np.unique(degree_sequence_crime, return_counts=True)\n",
    "trace_cr = go.Scatter(\n",
    "    x=x, y=y,\n",
    "    name=\"Crime\",\n",
    "    mode='lines+markers'\n",
    ")\n",
    "\n",
    "data = [trace_per, trace_cr]\n",
    "layout = go.Layout(title='<br>Degree distribution',\n",
    "                   xaxis=dict(title=\"Degree\", type='log'),\n",
    "                   yaxis=dict(title=\"Frequency\", type='log'))\n",
    "\n",
    "fig = go.Figure(data, layout)\n",
    "\n",
    "py.iplot(fig, filename='crime_deg_dist')"
   ]
  },
  {
   "cell_type": "code",
   "execution_count": 15,
   "metadata": {},
   "outputs": [
    {
     "data": {
      "text/html": [
       "<iframe id=\"igraph\" scrolling=\"no\" style=\"border:none;\" seamless=\"seamless\" src=\"https://plot.ly/~MaxBourdon/8.embed\" height=\"525px\" width=\"100%\"></iframe>"
      ],
      "text/plain": [
       "<plotly.tools.PlotlyDisplay object>"
      ]
     },
     "execution_count": 15,
     "metadata": {},
     "output_type": "execute_result"
    }
   ],
   "source": [
    "components = np.array([g for g in nx.connected_component_subgraphs(G)])\n",
    "components = components[np.argsort([len(g) for g in components])[::-1]]\n",
    "\n",
    "data = [go.Scatter(\n",
    "            x=np.arange(1, components.size + 1),\n",
    "            y=[len(g) for g in components],\n",
    "            mode='lines+markers'\n",
    "    )]\n",
    "layout = go.Layout(title='<br>Connected components',\n",
    "                   xaxis=dict(title=\"Component\"),\n",
    "                   yaxis=dict(title=\"Size\"))\n",
    "\n",
    "fig = go.Figure(data, layout)\n",
    "\n",
    "py.iplot(fig, filename='crime_con_comp')"
   ]
  },
  {
   "cell_type": "code",
   "execution_count": 16,
   "metadata": {},
   "outputs": [
    {
     "data": {
      "text/html": [
       "<iframe id=\"igraph\" scrolling=\"no\" style=\"border:none;\" seamless=\"seamless\" src=\"https://plot.ly/~MaxBourdon/14.embed\" height=\"525px\" width=\"100%\"></iframe>"
      ],
      "text/plain": [
       "<plotly.tools.PlotlyDisplay object>"
      ]
     },
     "execution_count": 16,
     "metadata": {},
     "output_type": "execute_result"
    }
   ],
   "source": [
    "data = [go.Scatter(\n",
    "            x=np.arange(1, components.size + 1),\n",
    "            y=[nx.radius(g) for g in components],\n",
    "            mode='lines+markers',\n",
    "            name=\"Radius\"\n",
    "    ), go.Scatter(\n",
    "            x=np.arange(1, components.size + 1),\n",
    "            y=[nx.diameter(g) for g in components],\n",
    "            mode='lines+markers',\n",
    "            name=\"Diameter\"\n",
    "    )]\n",
    "layout = go.Layout(title='<br>Connected components',\n",
    "                   xaxis=dict(title=\"Component\"),\n",
    "                   yaxis=dict(title=\"Size\"))\n",
    "\n",
    "fig = go.Figure(data, layout)\n",
    "\n",
    "py.iplot(fig, filename='crime_con_comp2')"
   ]
  },
  {
   "cell_type": "code",
   "execution_count": 17,
   "metadata": {},
   "outputs": [
    {
     "name": "stdout",
     "output_type": "stream",
     "text": [
      "Average shortest path length:  12.935155195174433\n"
     ]
    }
   ],
   "source": [
    "pathlengths = []\n",
    "\n",
    "for v in G.nodes():\n",
    "    spl = dict(nx.single_source_shortest_path_length(G, v))\n",
    "    for p in spl:\n",
    "        pathlengths.append(spl[p])\n",
    "\n",
    "print(\"Average shortest path length: \", np.mean(pathlengths))"
   ]
  },
  {
   "cell_type": "code",
   "execution_count": 18,
   "metadata": {},
   "outputs": [
    {
     "name": "stderr",
     "output_type": "stream",
     "text": [
      "C:\\Users\\Bourdon\\Anaconda3\\lib\\site-packages\\plotly\\plotly\\plotly.py:230: UserWarning:\n",
      "\n",
      "Woah there! Look at all those points! Due to browser limitations, the Plotly SVG drawing functions have a hard time graphing more than 500k data points for line charts, or 40k points for other types of charts. Here are some suggestions:\n",
      "(1) Use the `plotly.graph_objs.Scattergl` trace object to generate a WebGl graph.\n",
      "(2) Trying using the image API to return an image instead of a graph URL\n",
      "(3) Use matplotlib\n",
      "(4) See if you can create your visualization with fewer data points\n",
      "\n",
      "If the visualization you're using aggregates points (e.g., box plot, histogram, etc.) you can disregard this warning.\n",
      "\n"
     ]
    },
    {
     "data": {
      "text/html": [
       "<iframe id=\"igraph\" scrolling=\"no\" style=\"border:none;\" seamless=\"seamless\" src=\"https://plot.ly/~MaxBourdon/10.embed\" height=\"525px\" width=\"100%\"></iframe>"
      ],
      "text/plain": [
       "<plotly.tools.PlotlyDisplay object>"
      ]
     },
     "execution_count": 18,
     "metadata": {},
     "output_type": "execute_result"
    }
   ],
   "source": [
    "# Histogram of path lengths\n",
    "hist_pl = go.Histogram(x=pathlengths, nbinsx=50, histnorm='probability')\n",
    "\n",
    "data = [hist_pl]\n",
    "layout = go.Layout(title='<br>Path lengths distribution histogram',\n",
    "                   xaxis=dict(title=\"Length\"),\n",
    "                   yaxis=dict(title=\"Frequency\"))\n",
    "\n",
    "fig = go.Figure(data, layout)\n",
    "\n",
    "py.iplot(fig, filename='crime_pl_hist')"
   ]
  },
  {
   "cell_type": "code",
   "execution_count": 19,
   "metadata": {},
   "outputs": [
    {
     "name": "stdout",
     "output_type": "stream",
     "text": [
      "Graph's density:  0.0015512185894000063\n"
     ]
    }
   ],
   "source": [
    "print(\"Graph's density: \", nx.density(G))"
   ]
  },
  {
   "cell_type": "code",
   "execution_count": 20,
   "metadata": {},
   "outputs": [
    {
     "data": {
      "text/html": [
       "<iframe id=\"igraph\" scrolling=\"no\" style=\"border:none;\" seamless=\"seamless\" src=\"https://plot.ly/~MaxBourdon/16.embed\" height=\"525px\" width=\"100%\"></iframe>"
      ],
      "text/plain": [
       "<plotly.tools.PlotlyDisplay object>"
      ]
     },
     "execution_count": 20,
     "metadata": {},
     "output_type": "execute_result"
    }
   ],
   "source": [
    "data = [go.Histogram(x=nx.adjacency_spectrum(G).real, autobinx=True, histnorm='probability', name=\"A\"),\n",
    "        go.Histogram(x=nx.laplacian_spectrum(G), autobinx=True, histnorm='probability', name=\"L\")]\n",
    "layout = go.Layout(title='<br>Spectrum histograms',\n",
    "                   xaxis=dict(title=\"Eigenvalue\"),\n",
    "                   yaxis=dict(title=\"Frequency\"))\n",
    "\n",
    "fig = go.Figure(data, layout)\n",
    "\n",
    "py.iplot(fig, filename='crime_spectr_hist')"
   ]
  },
  {
   "cell_type": "markdown",
   "metadata": {},
   "source": [
    "## Let's finally look at the most popular persons"
   ]
  },
  {
   "cell_type": "code",
   "execution_count": 21,
   "metadata": {},
   "outputs": [],
   "source": [
    "person_nodes = np.array(person_nodes)\n",
    "top10 = np.argsort(np.array([G.degree[p] for p in person_nodes]))[-10:][::-1]\n",
    "top10_pn = person_nodes[top10]"
   ]
  },
  {
   "cell_type": "code",
   "execution_count": 22,
   "metadata": {},
   "outputs": [
    {
     "data": {
      "text/html": [
       "<iframe id=\"igraph\" scrolling=\"no\" style=\"border:none;\" seamless=\"seamless\" src=\"https://plot.ly/~MaxBourdon/18.embed\" height=\"525px\" width=\"100%\"></iframe>"
      ],
      "text/plain": [
       "<plotly.tools.PlotlyDisplay object>"
      ]
     },
     "execution_count": 22,
     "metadata": {},
     "output_type": "execute_result"
    }
   ],
   "source": [
    "persons = [G.nodes[p][\"Name\"] + ' ({})'.format(G.nodes[p][\"Sex\"]) for p in top10_pn]\n",
    "\n",
    "data = [go.Bar(\n",
    "    x=persons,\n",
    "    y=[len([u for u, v, d in G.edges(p, data=True) if d[\"Role\"] == role]) for p in top10_pn],\n",
    "    name=role,\n",
    "    marker=dict(color=color)\n",
    ") for role, color in role_color.items()]\n",
    "\n",
    "layout = go.Layout(title='<br>Top 10 persons',\n",
    "          barmode='group')\n",
    "\n",
    "fig = go.Figure(data=data, layout=layout)\n",
    "py.iplot(fig, filename='crimes_top10')"
   ]
  },
  {
   "cell_type": "markdown",
   "metadata": {},
   "source": [
    "### Visualize"
   ]
  },
  {
   "cell_type": "code",
   "execution_count": 23,
   "metadata": {},
   "outputs": [],
   "source": [
    "G_top = G.subgraph(list(top10_pn) + [v for p in top10_pn for u, v in G.edges(p)])\n",
    "pos = nx.bipartite_layout(G_top, top10_pn, align='horizontal')"
   ]
  },
  {
   "cell_type": "code",
   "execution_count": 24,
   "metadata": {},
   "outputs": [],
   "source": [
    "role_color = {\"Victim\": \"green\", \"Suspect\": \"red\", \"Witness\": \"blue\", \"Victim Suspect\": \"orange\"}\n",
    "\n",
    "def get_edge_trace_role(role, color):\n",
    "    edge_trace = go.Scatter(\n",
    "        x=[],\n",
    "        y=[],\n",
    "        line=dict(width=0.5, color=color),\n",
    "        hoverinfo='none',\n",
    "        name=role,\n",
    "        mode='lines')\n",
    "    for p, c, data in G_top.edges(data=True):\n",
    "        if data[\"Role\"] == role:\n",
    "            x0, y0 = pos[p]\n",
    "            x1, y1 = pos[c]\n",
    "            edge_trace['x'] += tuple([x0, x1, None])\n",
    "            edge_trace['y'] += tuple([y0, y1, None])\n",
    "    return edge_trace\n",
    "\n",
    "edge_traces = [get_edge_trace_role(role, color) for role, color in role_color.items()]\n",
    "\n",
    "node_trace = go.Scatter(\n",
    "    x=[],\n",
    "    y=[],\n",
    "    text=[],\n",
    "    mode='markers',\n",
    "    hoverinfo='text',\n",
    "    name=\"Nodes\",\n",
    "    marker=dict(\n",
    "        showscale=True,\n",
    "        # colorscale options\n",
    "        #'Greys' | 'YlGnBu' | 'Greens' | 'YlOrRd' | 'Bluered' | 'RdBu' |\n",
    "        #'Reds' | 'Blues' | 'Picnic' | 'Rainbow' | 'Portland' | 'Jet' |\n",
    "        #'Hot' | 'Blackbody' | 'Earth' | 'Electric' | 'Viridis' |\n",
    "        colorscale='YlGnBu',\n",
    "        reversescale=True,\n",
    "        color=[],\n",
    "        size=10,\n",
    "        colorbar=dict(\n",
    "            thickness=15,\n",
    "            title='Node Connections',\n",
    "            xanchor='left',\n",
    "            titleside='right'\n",
    "        ),\n",
    "        line=dict(width=2)))\n",
    "\n",
    "for node in G_top.nodes():\n",
    "    x, y = pos[node]\n",
    "    node_trace['x'] += tuple([x])\n",
    "    node_trace['y'] += tuple([y])"
   ]
  },
  {
   "cell_type": "code",
   "execution_count": 25,
   "metadata": {},
   "outputs": [],
   "source": [
    "for node, adjacencies in enumerate(G_top.adjacency()):\n",
    "    node_trace['marker']['color'] += tuple([len(adjacencies[1])])\n",
    "    node_info = '# of connections: ' + str(len(adjacencies[1])) + '<br>Type: '\n",
    "    p = adjacencies[0]\n",
    "    if p in person_nodes:\n",
    "        node_info += 'Person<br>Name: {0}'.format(G_top.nodes[p][\"Name\"]) + '<br>Sex: {0}'.format(G_top.nodes[p][\"Sex\"])\n",
    "    else:\n",
    "        node_info += 'Crime'\n",
    "    node_trace['text'] += tuple([node_info])"
   ]
  },
  {
   "cell_type": "code",
   "execution_count": 26,
   "metadata": {},
   "outputs": [
    {
     "data": {
      "text/html": [
       "<iframe id=\"igraph\" scrolling=\"no\" style=\"border:none;\" seamless=\"seamless\" src=\"https://plot.ly/~MaxBourdon/20.embed\" height=\"525px\" width=\"100%\"></iframe>"
      ],
      "text/plain": [
       "<plotly.tools.PlotlyDisplay object>"
      ]
     },
     "execution_count": 26,
     "metadata": {},
     "output_type": "execute_result"
    }
   ],
   "source": [
    "fig = go.Figure(data=edge_traces + [node_trace],\n",
    "             layout=go.Layout(\n",
    "                title='<br>Crime network graph (top 10 persons)',\n",
    "                titlefont=dict(size=16),\n",
    "                showlegend=True,\n",
    "                legend=dict(x=-.15, y=0.9),\n",
    "                hovermode='closest',\n",
    "                margin=dict(b=20,l=5,r=5,t=40),\n",
    "                # annotations=[ dict(\n",
    "                #     text=\"Python code: <a href='https://plot.ly/ipython-notebooks/network-graphs/'> https://plot.ly/ipython-notebooks/network-graphs/</a>\",\n",
    "                #     showarrow=False,\n",
    "                #     xref=\"paper\", yref=\"paper\",\n",
    "                #     x=0.005, y=-0.002 ) ],\n",
    "                xaxis=dict(showgrid=False, zeroline=False, showticklabels=False),\n",
    "                yaxis=dict(showgrid=False, zeroline=False, showticklabels=False)))\n",
    "\n",
    "py.iplot(fig, filename='crime_graph_top')"
   ]
  },
  {
   "attachments": {},
   "cell_type": "markdown",
   "metadata": {},
   "source": [
    "<img src=\"image.png\">"
   ]
  }
 ],
 "metadata": {
  "kernelspec": {
   "display_name": "Python 3",
   "language": "python",
   "name": "python3"
  },
  "language_info": {
   "codemirror_mode": {
    "name": "ipython",
    "version": 3
   },
   "file_extension": ".py",
   "mimetype": "text/x-python",
   "name": "python",
   "nbconvert_exporter": "python",
   "pygments_lexer": "ipython3",
   "version": "3.6.6"
  }
 },
 "nbformat": 4,
 "nbformat_minor": 2
}
