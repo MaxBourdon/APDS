{
 "cells": [
  {
   "cell_type": "markdown",
   "metadata": {},
   "source": [
    "# Кодрян Максим Станиславович, ММП ВМК МГУ, 517 группа"
   ]
  },
  {
   "cell_type": "markdown",
   "metadata": {},
   "source": [
    "# ДЗ по первой лекции ПЗАД"
   ]
  },
  {
   "cell_type": "markdown",
   "metadata": {},
   "source": [
    "## 1. Проверить наличие \"желанных\" свойств медианы для $d$-мерного обобщения как решения оптимизационной задачи"
   ]
  },
  {
   "cell_type": "markdown",
   "metadata": {},
   "source": [
    "Напомним перечень свойств:\n",
    "* Очевидные: устойчивость к выбросам, реальная точка из реальной выборки ~~реально~~\n",
    "* Хочется: инвариантность (к поворотам, сдвигам, сжатиям и-тогдалие), совпадения с true медианой при $d = 1$..."
   ]
  },
  {
   "cell_type": "markdown",
   "metadata": {},
   "source": [
    "Рассматриваем медиану как решение следующей оптимизационной задачи:\n",
    "$$\\sum_{i=1}^{m} \\Vert x - a \\Vert_p \\longrightarrow \\min_{a \\in \\{x_i\\}_{i=1}^m},$$\n",
    "где $\\Vert x \\Vert_p = (\\sum_{j=1}^{d} |x|^p)^{1/p}$ &mdash; $p$-норма $d$-мерного вектора $x$, мдауш."
   ]
  },
  {
   "cell_type": "markdown",
   "metadata": {},
   "source": [
    "Для простоты ограничимся случаем $d = 2$ и случаями $p = 1, 2, +\\inf$, то есть кандидаты на рассмотрение:\n",
    "* $\\sum_{i = 1}^m \\left(|x_i - a_1| + |y_i - a_2| \\right) \\longrightarrow \\min_{a \\in \\{x_i\\}_{i=1}^m}$\n",
    "* $\\sum_{i = 1}^m \\sqrt{|x_i - a_1|^2 + |y_i - a_2|^2 } \\longrightarrow \\min_{a \\in \\{x_i\\}_{i=1}^m}$\n",
    "* $\\sum_{i = 1}^m \\max\\left(|x_i - a_1|, |y_i - a_2| \\right) \\longrightarrow \\min_{a \\in \\{x_i\\}_{i=1}^m}$"
   ]
  },
  {
   "cell_type": "markdown",
   "metadata": {},
   "source": [
    "Во-первых, ясно, что решения данных оптимизационных задач &mdash; точки из выборки (удивительно, правда?), совпадают с реальной медианой в одномерном кейсе, инвариантны к сдвигам, скалярным сжатиям/растяжениям и поворотам (интуитивно ясно из свойств расстояния, но, естесна, можно показать строго, но мне лень, хех). \n",
    "\n",
    "Давайте посмотрим на инвариантность к нетривиальным (неравномерным по-другому) сжатиям-растяжениям и что с устойчивостью к выбросам."
   ]
  },
  {
   "cell_type": "code",
   "execution_count": 1,
   "metadata": {},
   "outputs": [],
   "source": [
    "import numpy as np\n",
    "from matplotlib import pyplot as plt\n",
    "%matplotlib inline"
   ]
  },
  {
   "cell_type": "code",
   "execution_count": 2,
   "metadata": {},
   "outputs": [],
   "source": [
    "def calc_p_norm(X, p=1):\n",
    "    \"Calculate p-norms for X in R^{..., d}, p >= 1\"\n",
    "    X = np.abs(X)\n",
    "    \n",
    "    if p < 1:\n",
    "        print(\"Sorry, mate, not a norm...\")\n",
    "        return\n",
    "    elif p < np.inf:\n",
    "        return np.sum(X ** p, axis=-1) ** (1 / p)\n",
    "    elif p == np.inf:\n",
    "        return np.max(X, axis=-1)\n",
    "\n",
    "    \n",
    "def get_p_median_index(X, p=1):\n",
    "    \"Get index of the multidimensional p-median element of X in R^{m, d}, p >= 1\"\n",
    "    pairwise_dist = calc_p_norm(np.expand_dims(X, 0) - np.expand_dims(X, 1), p)\n",
    "    dist_sums = np.sum(pairwise_dist, axis=1)\n",
    "    median_ind = np.argmin(dist_sums)\n",
    "    return median_ind"
   ]
  },
  {
   "cell_type": "code",
   "execution_count": 3,
   "metadata": {},
   "outputs": [],
   "source": [
    "def plot_median(X, comment=\"\"):\n",
    "    median_1_ind = get_p_median_index(X, p=1)\n",
    "    median_1 = X[median_1_ind]\n",
    "    \n",
    "    median_2_ind = get_p_median_index(X, p=2)\n",
    "    median_2 = X[median_2_ind]\n",
    "    \n",
    "    median_inf_ind = get_p_median_index(X, p=np.inf)\n",
    "    median_inf = X[median_inf_ind]\n",
    "    \n",
    "    print(\"1-median index: \", median_1_ind)\n",
    "    print(\"2-median index: \", median_2_ind)\n",
    "    print(\"inf-median index: \", median_inf_ind)\n",
    "    \n",
    "    plt.xlabel(\"x\")\n",
    "    plt.ylabel(\"y\")\n",
    "    plt.title(\"p-median demonstration \" + comment)\n",
    "    plt.scatter(X[:, 0], X[:, 1], marker='.')\n",
    "    plt.scatter(median_1[0], median_1[1], marker='+', label=\"1-median\")\n",
    "    plt.scatter(median_2[0], median_2[1], marker='+', label=\"2-median\")\n",
    "    plt.scatter(median_inf[0], median_inf[1], marker='+', label=\"inf-median\")\n",
    "    plt.legend()\n",
    "    plt.show()"
   ]
  },
  {
   "cell_type": "code",
   "execution_count": 4,
   "metadata": {},
   "outputs": [],
   "source": [
    "# Generate our beautiful data\n",
    "X = np.random.rand(100, 2)"
   ]
  },
  {
   "cell_type": "code",
   "execution_count": 5,
   "metadata": {},
   "outputs": [
    {
     "name": "stdout",
     "output_type": "stream",
     "text": [
      "1-median index:  54\n",
      "2-median index:  12\n",
      "inf-median index:  46\n"
     ]
    },
    {
     "data": {
      "image/png": "[encoded data removed]",
      "text/plain": [
       "<Figure size 432x288 with 1 Axes>"
      ]
     },
     "metadata": {},
     "output_type": "display_data"
    }
   ],
   "source": [
    "plot_median(X)"
   ]
  },
  {
   "cell_type": "markdown",
   "metadata": {},
   "source": [
    "Итак, сжимаем-растягиваем:"
   ]
  },
  {
   "cell_type": "code",
   "execution_count": 6,
   "metadata": {},
   "outputs": [],
   "source": [
    "# Define non-trivial squeezing matrix\n",
    "A = np.array([[0.5, 0],\n",
    "              [0, 2]])"
   ]
  },
  {
   "cell_type": "code",
   "execution_count": 7,
   "metadata": {},
   "outputs": [
    {
     "name": "stdout",
     "output_type": "stream",
     "text": [
      "1-median index:  41\n",
      "2-median index:  12\n",
      "inf-median index:  71\n"
     ]
    },
    {
     "data": {
      "image/png": "[encoded data removed]",
      "text/plain": [
       "<Figure size 432x288 with 1 Axes>"
      ]
     },
     "metadata": {},
     "output_type": "display_data"
    }
   ],
   "source": [
    "plot_median(X.dot(A), \"after non-trivial squeezing\")"
   ]
  },
  {
   "cell_type": "markdown",
   "metadata": {},
   "source": [
    "Ну, сжатия-растяжения они, конечно, более-менее переносят, но не то чтобы 100% инвариантны.\n",
    "\n",
    "Теперь к устойчивости:"
   ]
  },
  {
   "cell_type": "code",
   "execution_count": 8,
   "metadata": {},
   "outputs": [],
   "source": [
    "# Add several outliers\n",
    "X_ = np.vstack([X, 0.5 + 3 * np.random.randn(10, 2)])"
   ]
  },
  {
   "cell_type": "code",
   "execution_count": 9,
   "metadata": {},
   "outputs": [
    {
     "name": "stdout",
     "output_type": "stream",
     "text": [
      "1-median index:  41\n",
      "2-median index:  12\n",
      "inf-median index:  12\n"
     ]
    },
    {
     "data": {
      "image/png": "[encoded data removed]",
      "text/plain": [
       "<Figure size 432x288 with 1 Axes>"
      ]
     },
     "metadata": {},
     "output_type": "display_data"
    }
   ],
   "source": [
    "plot_median(X_, \"in outliers test\")"
   ]
  },
  {
   "cell_type": "code",
   "execution_count": 10,
   "metadata": {},
   "outputs": [
    {
     "data": {
      "text/plain": [
       "array([0.43864999, 0.47248433])"
      ]
     },
     "execution_count": 10,
     "metadata": {},
     "output_type": "execute_result"
    }
   ],
   "source": [
    "X_[12]"
   ]
  },
  {
   "cell_type": "code",
   "execution_count": 11,
   "metadata": {},
   "outputs": [
    {
     "data": {
      "text/plain": [
       "array([0.35679018, 0.48737124])"
      ]
     },
     "execution_count": 11,
     "metadata": {},
     "output_type": "execute_result"
    }
   ],
   "source": [
    "X_[41]"
   ]
  },
  {
   "cell_type": "markdown",
   "metadata": {},
   "source": [
    "Ну, я бы сказал, что весьма устойчиво решение к выбросам так-то."
   ]
  },
  {
   "cell_type": "markdown",
   "metadata": {},
   "source": [
    "В общем, не такое уж и плохое обобщение вышло."
   ]
  },
  {
   "cell_type": "markdown",
   "metadata": {},
   "source": [
    "## 2. Проверить применимость формулы итерационного алгоритма в ОМК"
   ]
  },
  {
   "cell_type": "markdown",
   "metadata": {},
   "source": [
    "Такс-такс-такс, что тут у нас, оптимизационная задача!\n",
    "\n",
    "$$\\sum_{i=1}^m f(x_i, a) \\longrightarrow \\min_a$$\n",
    "\n",
    "Так, допустим, приравняли нулю производную (да, случай одномерный) и получили нечто такое:\n",
    "\n",
    "$$\\sum_{i=1}^m \\psi(x_i - a) = \\sum_{i=1}^m (x_i - a) \\xi(x_i - a) = 0$$\n",
    "\n",
    "Абсолютно очевидно (или нет?..) напрашивается следующая итеративная схема пересчета параметра $a$:\n",
    "\n",
    "$$a^{t+1} = \\frac{\\sum_{i=1}^m x_i \\xi(x_i - a^t)}{\\sum_{i=1}^m \\xi(x_i - a^t)}$$\n",
    "\n",
    "Что гипотетически может пойти не так?"
   ]
  },
  {
   "cell_type": "markdown",
   "metadata": {},
   "source": [
    "Ясно, что такая схема не прокатит, если, к примеру, знаменатель &mdash; нуль. Но $\\xi$ называют *весовой* функцией, стало быть, неспроста. Давайте ограничимся следующим весьма интуитивным случаем:\n",
    "\n",
    "$\\xi(z) > 0 \\forall z \\in \\mathbb{R}$ &mdash; веса будут положительными."
   ]
  },
  {
   "cell_type": "markdown",
   "metadata": {},
   "source": [
    "Так, из вида нашей итерационной схемы (которая по сути получается переносом свободной $a$-шки влево, а всего остального направо в уравнении для нуля производной $\\sum_{i=1}^m (x_i - a) \\xi(x_i - a) = 0$) понятно, что, меняя $a$ по такому алгоритму, из стационарной точки мы не выйдем. Уже хо-ро-шо. \n",
    "\n",
    "Более того, благодаря положительным весам можно считать, что каждая новая точка получается путем подсчета мат. ожидания от точек выборки по некоторому распределению, задающемуся весами, которые, в свою очередь, зависят от предыдущей точки. То есть каждая получающаяся из такой процедуры точка лежит где-то \"посередине\" относительно точек выборки (makes sense).\n",
    "\n",
    "Что касается сходимости такого алгоритма, ничего определенного в столь общей постановке сказать не могу. Хотя вот, например, EM тоже не дает никаких замечательных гарантий относительно сходимости (сойдемся куда-то и ладно), но его ведь все так любят. "
   ]
  },
  {
   "cell_type": "markdown",
   "metadata": {},
   "source": [
    "## 3. \"Выборки 10000 достаточно, но это чтобы оценить с точностью ±0.01 с вероятностью 99%\" &mdash; так ли это?"
   ]
  },
  {
   "cell_type": "markdown",
   "metadata": {},
   "source": [
    "Мда, ну и постановочка вопроса.\n",
    "\n",
    "Так, окей, давайте прям максимально общо. Был такой товарищ, звали его Чебышёв. У него было неравенство (которое в теории вероятностей является так-то следствием неравенства товарища Маркова, но не суть), которое гласит, что для произвольной (ну, окей, с конечным вторым моментом) случайной величины $\\xi$ справедливо:\n",
    "$$\\mathbb{P}(|\\xi - \\mu| \\ge a) \\le \\frac{\\sigma^2}{a^2}, \\mu = \\mathbb{E}\\xi, \\sigma^2 = \\mathbb{D}\\xi$$\n",
    "\n",
    "А еще все мы знаем, что эмпирическое среднее $N$ iid случайных величин имеет то же мат. ожидание и в $N$ раз меньшую дисперсию.\n",
    "\n",
    "Ну, вот, скрещивая два факта, узнаем, что:\n",
    "$$\\mathbb{P}(|\\frac{1}{N}\\sum_{i=1}^N \\xi_i - \\mu| \\ge a) \\le \\frac{\\sigma^2}{a^2 N}$$\n",
    "\n",
    "Тааак, теперь подставляем чиселки $N = 10000$ и $a = 0.01$, оказывается:\n",
    "$$\\mathbb{P}(|\\frac{1}{10^4}\\sum_{i=1}^{10^4} \\xi_i - \\mu| \\ge 10^{-2}) \\le \\sigma^2$$\n",
    "\n",
    "Соответственно, раз нас интересует 99% гарантия, справа должно стоять одна сотая, то есть $\\sigma^2 \\le 10^{-2}$."
   ]
  },
  {
   "cell_type": "markdown",
   "metadata": {},
   "source": [
    "Допустим, мы хотим оценить вероятность события, проведя кучу независимых экспериментов, причём сделать оценку с необходимой точностью и вероятностью, угу. По сути имеем дело со случайной величиной $\\xi \\sim Bernoulli(p)$, параметр $p$ распределения которой мы желаем оценить.\n",
    "\n",
    "Зная, что $\\mathbb{E}\\xi = p, \\mathbb{D}\\xi = p(1-p)$ и помня, что $\\mathbb{D}\\xi \\le 10^{-2}$, находим, что при $p \\in [0, 0.5 - 0.2\\sqrt{6}] \\cup [0.5 + 0.2\\sqrt{6}, 1]$ мы находимся в той зоне, где мы гарантировано получаем желаемую оценку.\n",
    "\n",
    "Вот только узковаты интервалы, конечно, потому что $0.5 - 0.2\\sqrt{6} \\approx 0.010102$, так что способ так себе. Можно, конечно, придумать и получше оценки (через ЦПТ какую-нибудь а-ля Муавра-Лапласа, например), но... :)"
   ]
  },
  {
   "cell_type": "markdown",
   "metadata": {},
   "source": [
    "Давайте напоследок глянем, как ведёт себя дисперсия распределения Бернулли в зависимости от параметра $p$, чтобы знать, с какой (заведомо) вероятностью мы можем оценивать наш параметр в принципе."
   ]
  },
  {
   "cell_type": "code",
   "execution_count": 12,
   "metadata": {},
   "outputs": [
    {
     "data": {
      "image/png": "[encoded data removed]",
      "text/plain": [
       "<Figure size 432x288 with 1 Axes>"
      ]
     },
     "metadata": {},
     "output_type": "display_data"
    }
   ],
   "source": [
    "p = np.linspace(0, 1, 10000)\n",
    "\n",
    "plt.xlabel('p')\n",
    "plt.ylabel(r'$\\mathbb{D}\\xi$')\n",
    "plt.title(\"Bernoulli distribution's variance plot for different p\")\n",
    "plt.plot(p, p * (1 - p))\n",
    "plt.show()"
   ]
  },
  {
   "cell_type": "markdown",
   "metadata": {},
   "source": [
    "Отсюда, кстати, становится ясно, что максимальная дисперсия распределения Бернулли: $\\max_p \\mathbb{D}\\xi = 0.25$, а значит, нам заведомо хватит $N = 250000$ экспериментов, чтобы оценить параметр $p$ с точностью $\\pm 0.01$ и вероятностью ошибки $1\\%$."
   ]
  },
  {
   "cell_type": "markdown",
   "metadata": {},
   "source": [
    "## 4. Сколько нужно опросить перед выборами людей, чтобы получить достоверную оценку общественного мнения? Что здесь такое «достоверная»?"
   ]
  },
  {
   "cell_type": "markdown",
   "metadata": {},
   "source": [
    "Давайте сделаем все интуитивно, ясно и прозрачно, так, чтобы даже ребенок понял. Введем вероятностное пространство $\\left(\\Omega, \\mathcal{F}, \\mathbb{P} \\right)$, $\\Omega$ &mdash; множество элементарных исходов (в нашем случае &mdash; люди, которых мы будем случайно выдергивать и опрашивать), $\\mathcal{F}$ &mdash; сигма-алгебра событий (население у нас конечно, так что, так и быть, можно ограничиться просто алгеброй для *простоты*, а также будем полагать $\\mathcal{F} = 2^\\Omega$, дабы ни в чем себя не ограничивать) и $\\mathbb{P}$ &mdash; вероятностная мера на нашей алгебре (пусть будет считающей, то бишь $\\mathbb{P}(A) = \\frac{|A|}{|\\Omega|}, A \\in \\mathcal{F}$). Воооот, теперь можно на все вопросы грамотно ответить.\n",
    "\n",
    "Значит, что мы делаем дальше. Допустим, у нас $K$ кандидатов. Введём для каждого из них на нашем вероятностном пространстве случайную величину $\\xi_k(\\omega) = \\mathbb{1}[\\omega\\text{ голосует за кандидата }k]$. Дальше вводится вероятностное пространство случайных выборок размера $N$: $\\left(\\Omega^N, \\mathcal{F}^N, \\mathbb{P}^N \\right)$, сэмплируется выборка, и мы возвращаемся к предыдущему пункту. Но тут есть маленький подвох: *такие случайные выборки могут содержать одного и того же человека несколько раз*. Конечно, в наших реалиях и не такое возможно, но хотелось бы немного поидеализировать (кстати говоря, мы также полагаем, что все голосуют, ну или у нас просто есть фиктивный кандидат)."
   ]
  },
  {
   "cell_type": "markdown",
   "metadata": {},
   "source": [
    "Допустим, что каждая выборка &mdash; это совокупность из $N$ независимых (здесь под независимостью подразумевается следующее: опросив $m$ людей, следующего выбираем равновероятно из оставшихся $N - m$, так что независимость у нас, конечно, скорее, в бытовом смысле) опросов *разных* людей, то есть всего различных таких выборок может быть $A_{|\\Omega|}^N$ (да, я понимаю, что порядок опрашиваемых не имеет значения, но так легче считать всякие доли, вероятности и моменты случайных величин, как будет видно далее; хотя, конечно, вероятности вроде \"доля наборов с таким-то числом голосующих за $k$-го кандидата\", которые нас и будут интересовать, очевидно, останутся теми же при любой трактовке: с учётом или без учёта порядка). \n",
    "\n",
    "Опять-таки рассмотрим случайную величину $\\eta_k(\\mathbf{\\omega})$, которая будет возвращать долю голосующих за $k$-го кандидата в выборке $\\mathbf{\\omega}$. Понимаем, что $\\eta_k(\\mathbf{\\omega}) = \\frac{\\sum_{i=1}^N \\xi_{k;i}(\\mathbf{\\omega})}{N}$, где $\\xi_{k;i}(\\mathbf{\\omega}) = \\xi_{k}(\\mathbf{\\omega}[i])$ сообщает нам, проголосовал ли $i$-й человек в выборке за кандидата $k$. Заметим, что мат. ожидание такой случайной величины совпадает (с чем бы вы думали?) с долей голосующих за кандидата $k$ в генеральной совокупности &mdash; $p_k = \\frac{\\sum_{\\omega \\in \\Omega} \\xi_k(\\omega)}{|\\Omega|} = \\mathbb{E}\\xi_k$, что следует из линейности мат. ожидания и того, что вероятность встретить человека $\\omega$ на $i$-й позиции в упорядоченном наборе равна $\\frac{1}{|\\Omega|}$, короче говоря, $\\mathbb{E} \\eta_k = \\frac{\\sum_{i=1}^N \\mathbb{E}\\xi_{k;i}}{N} = \\mathbb{E}\\xi_k = p_k$."
   ]
  },
  {
   "cell_type": "markdown",
   "metadata": {},
   "source": [
    "Итак, мат. ожидание случайной величины $\\eta_k$, как мы выяснили, совпадает с параметром, который мы так хотим оценить, &mdash; с долей голосующих, которые предпочли кандидата $k$. Отлично, теперь чтобы получить **достоверную** (то есть с заданной *точностью* и *вероятностью выйти за пределы данной точности*) оценку данного параметра можно использовать трюк с неравенством Чебышева из пункта выше. Для этого нам нужна дисперсия. Если я нигде не напутал, должно получиться так: $\\mathbb{D} \\eta_k = \\mathbb{E} \\eta_k^2 - \\left(\\mathbb{E}\\eta_k\\right)^2 = \\frac{\\sum_{i=1}^N \\mathbb{E}\\xi^2_{k;i} + \\sum_{i \\ne j} \\mathbb{E} \\xi_{k;i}\\xi_{k;j}}{N^2} - \\left(\\mathbb{E}\\eta_k\\right)^2 = \\{\\xi^2_{k;i} = \\xi_{k;i}, \\mathbb{E} \\xi_{k;i}\\xi_{k;j} = \\mathbb{P}(\\xi_{k;i} = 1, \\xi_{k;j} = 1) = p_k \\frac{p_k|\\Omega| - 1}{|\\Omega| - 1}, i \\ne j \\} = \\frac{p_k(1 - p_k)\\left(|\\Omega| - N \\right)}{N\\left(|\\Omega| - 1 \\right)}$. "
   ]
  },
  {
   "cell_type": "markdown",
   "metadata": {},
   "source": [
    "Вроде при $N = |\\Omega|$ и $N = 1$ получаются точные формулы, ну и маленький sanity check напоследок:"
   ]
  },
  {
   "cell_type": "code",
   "execution_count": 13,
   "metadata": {},
   "outputs": [],
   "source": [
    "import itertools\n",
    "omega = np.zeros(10)  # 10 people population\n",
    "omega[:4] = 1  # 40% vote right\n",
    "N = 3  # ask 3 person"
   ]
  },
  {
   "cell_type": "code",
   "execution_count": 14,
   "metadata": {},
   "outputs": [
    {
     "name": "stdout",
     "output_type": "stream",
     "text": [
      "Mean is correct:  True\n",
      "Variance is correct:  True\n"
     ]
    }
   ],
   "source": [
    "# Check permutations variant\n",
    "\n",
    "eta_mean = 0\n",
    "eta_2_mean = 0\n",
    "\n",
    "for n_exp, sample in enumerate(itertools.permutations(omega, N)):\n",
    "    eta = np.mean(sample)\n",
    "    eta_mean += eta\n",
    "    eta_2_mean += eta ** 2\n",
    "    \n",
    "n_exp += 1\n",
    "eta_mean /= n_exp\n",
    "eta_2_mean /= n_exp\n",
    "\n",
    "p = omega.mean()\n",
    "O = omega.size\n",
    "var = p * (1 - p) * (O - N) / (N * (O - 1))\n",
    "\n",
    "print(\"Mean is correct: \", np.allclose(eta_mean, p))\n",
    "print(\"Variance is correct: \", np.allclose(eta_2_mean - eta_mean ** 2, var))"
   ]
  },
  {
   "cell_type": "code",
   "execution_count": 15,
   "metadata": {},
   "outputs": [
    {
     "name": "stdout",
     "output_type": "stream",
     "text": [
      "Mean is correct:  True\n",
      "Variance is correct:  True\n"
     ]
    }
   ],
   "source": [
    "# Check combinations variant\n",
    "\n",
    "eta_mean = 0\n",
    "eta_2_mean = 0\n",
    "\n",
    "for n_exp, sample in enumerate(itertools.combinations(omega, N)):\n",
    "    eta = np.mean(sample)\n",
    "    eta_mean += eta\n",
    "    eta_2_mean += eta ** 2\n",
    "    \n",
    "n_exp += 1\n",
    "eta_mean /= n_exp\n",
    "eta_2_mean /= n_exp\n",
    "\n",
    "p = omega.mean()\n",
    "O = omega.size\n",
    "var = p * (1 - p) * (O - N) / (N * (O - 1))\n",
    "\n",
    "print(\"Mean is correct: \", np.allclose(eta_mean, p))\n",
    "print(\"Variance is correct: \", np.allclose(eta_2_mean - eta_mean ** 2, var))"
   ]
  },
  {
   "cell_type": "markdown",
   "metadata": {},
   "source": [
    "Кажется, ничего... Как бы то ни было, положим, я прав. Как выбрать число опрашиваемых так, чтобы с вероятностью $99\\%$ оставаться в пределах одной сотой от реальной доли голосующих за кандидата $k$ (то есть от среднего)? Снова приходим (см. предыдущий пункт) к тому, что для этого требуется $\\mathbb{D} \\eta_k \\le 10^{-6}$. Нетрудно видеть, что исходя из нашей формулы $\\mathbb{D} \\eta_k \\le \\frac{1}{4N}$, поэтому **нам заведомо достаточно $N \\ge 250000$** (считаем, что популяция у нас достаточно большая, не в деревне опросы проводим). Весьма интересный результат все-таки!"
   ]
  },
  {
   "cell_type": "markdown",
   "metadata": {},
   "source": [
    "Ну и маленький экспериментик напоследок:"
   ]
  },
  {
   "cell_type": "code",
   "execution_count": 16,
   "metadata": {},
   "outputs": [
    {
     "data": {
      "image/png": "[encoded data removed]",
      "text/plain": [
       "<Figure size 432x288 with 1 Axes>"
      ]
     },
     "metadata": {},
     "output_type": "display_data"
    }
   ],
   "source": [
    "omega = np.random.binomial(1, 0.2, 1000000)  # 1 million people\n",
    "N = 250000  # Ask 25% of population\n",
    "n_exp = 10000  # 10 thousand times\n",
    "sample_means = []\n",
    "\n",
    "for _ in range(n_exp):\n",
    "    sample = np.random.choice(omega, N, replace=False)\n",
    "    sample_means.append(sample.mean())\n",
    "    \n",
    "plt.title(\"Estimated fraction experiment\")\n",
    "plt.xlabel(\"Fraction\")\n",
    "plt.ylabel(\"Estimated density\")\n",
    "plt.hist(sample_means, bins=50, density=True)\n",
    "plt.vlines(omega.mean(), 0, plt.ylim()[1], color='red', label=\"True fraction\")\n",
    "plt.vlines(np.percentile(sample_means, [0.5, 99.5]), 0, plt.ylim()[1], label=\"99% interval\")\n",
    "plt.legend()\n",
    "plt.show()"
   ]
  },
  {
   "cell_type": "markdown",
   "metadata": {},
   "source": [
    "Я бы провёл экспериментик с большей популяцией, но у меня комп слабоват... :(\n",
    "\n",
    "Anyway, весьма занимательно, не правда ли? Оценка через неравенство Чебышева слишком консервативна (~ в 10 раз), но зато универсальна.\n",
    "\n",
    "Черт возьми, но как же все-таки интересно получается с этим магическим числом $250 000$!"
   ]
  },
  {
   "cell_type": "markdown",
   "metadata": {},
   "source": [
    "## 5. В чем слабость наших аргументов (в задаче зодиакального скоринга)?"
   ]
  },
  {
   "cell_type": "markdown",
   "metadata": {},
   "source": [
    "Ладно, давайте разбираться...\n",
    "\n",
    "Итак, мы говорим, что выводы в статье про зодиакальный скоринг (такие-то знаки зодиака возвращают долги хуже, чем такие-то) не совсем корректны, потому что процент должников оценивался по сравнительно небольшой подвыборке для каждого знака, а потому полученные \"вероятности задолжать\" для каждого знака весьма неустойчивы, особенно если учитываются доли процента. К тому же подобные рейтинги оказываются еще и неустойчивы по времени, что показал эксперимент с б**о**льшим числом респондентов.\n",
    "\n",
    "В чем же слабость подобной аргументации? Вроде все более-менее логично.\n",
    "\n",
    "Окей, неустойчивы проценты, и неустойчивы закономерности по времени. Но допустим, нас не столько интересуют конкретные вероятности в перспективе, сколько сам *рейтинг знаков-должников*, причем *на данный момент времени*. То есть да, указывать вероятности с точностью до долей процентов в данном случае не совсем корректно, тем более использовать их в каких-нибудь долгосрочных исследованиях, но **порядок**, в котором на текущий момент выстроились знаки зодиака в данном рейтинге должников, &mdash; вещь куда более устойчивая к погрешностям измерения, чем конкретные величины вероятностей, что логично и интуитивно ясно."
   ]
  },
  {
   "cell_type": "markdown",
   "metadata": {},
   "source": [
    "Ну, и маленький экспериментик напоследок!\n",
    "\n",
    "Возьмем три Бернуллиевские случайные величины с $p = 0.2, 0.225, 0.25$ соответственно, просэмплируем $1000$ раз каждую, усредним, упорядочим и посмотрим, какова эмпирическая вероятность нарушить их естественный порядок следования."
   ]
  },
  {
   "cell_type": "code",
   "execution_count": 17,
   "metadata": {},
   "outputs": [
    {
     "name": "stdout",
     "output_type": "stream",
     "text": [
      "Wrong order empirical probability:  0.11523633333333333\n"
     ]
    }
   ],
   "source": [
    "order_list = []\n",
    "\n",
    "for _ in range(1000000):\n",
    "    p_1 = np.random.binomial(1, 0.2, 1000).mean()\n",
    "    p_2 = np.random.binomial(1, 0.225, 1000).mean()\n",
    "    p_3 = np.random.binomial(1, 0.25, 1000).mean()\n",
    "    order_list.append(np.argsort([p_1, p_2, p_3]))\n",
    "    \n",
    "order_list = np.array(order_list)\n",
    "print(\"Wrong order empirical probability: \", np.mean(order_list != np.arange(3)))"
   ]
  },
  {
   "cell_type": "markdown",
   "metadata": {},
   "source": [
    "Ну вот, всего в $\\approx 11.5 \\%$ случаев ошибаемся с порядком, хотя каждая величина всего тысячу раз сэмплируется и сами $p$-шки достаточно близки. Так что да, порядок вероятностей &mdash; вещь более устойчивая по отношению к количеству экспериментов, чем конкретные какие-то там значения вероятностей, вот так.\n",
    "\n",
    "Так что, возможно, составленный *на тот момент времени* рейтинг знаков-должников все же верный."
   ]
  },
  {
   "cell_type": "markdown",
   "metadata": {},
   "source": [
    "## 6. Другие способы обобщения медианы на многомерный случай..."
   ]
  },
  {
   "cell_type": "markdown",
   "metadata": {},
   "source": [
    "Не знаю уж, почему его на лекции сразу отвергли, но мне этот способ сразу пришёл в голову: \n",
    "\n",
    "1) Посчитать маргинальные одномерные медианы по каждой координате;\n",
    "\n",
    "2) Получить эдакую прото-медиану в многомерном пространстве;\n",
    "\n",
    "3) Найти ближайшую к ней (в вашей любимой метрике) точку из исходной выборки.\n",
    "\n",
    "Ну чем плохо?\n",
    "\n",
    "Смотрите:\n",
    "* *Реальная точка из выборки* &mdash; **есть** по определению, так сказать;\n",
    "* *В одномерном случае совпадает с медианой* &mdash; **есть** по определению, так сказать x2;\n",
    "* *Устойчивость к выбросам* &mdash; **есть**, так как одномерные медианы устойчивы;\n",
    "* *Инвариантность к скалярному масштабированию и переносам* &mdash; **есть** по свойствам одномерной медианы и метрики (ограничимся нормированным случаем)...\n",
    "\n",
    "Ну, нет устойчивости ко всяким поворотам и нетривиальным сжатиям/растяжениям &mdash; ну и что, подумаешь! Да кому это вообще надо? Meh...\n",
    "\n",
    "Зато представьте, например, случай, когда точки расположены (приблизительно) вдоль прямой на плоскости. Способ с выпуклой оболочкой объявит медианой весь набор точек, а такой выделит одну, true-медиану, что куда более интуитивно!"
   ]
  },
  {
   "cell_type": "markdown",
   "metadata": {},
   "source": [
    "Итак, эээээээээээээээээээээээээксперименты!\n",
    "\n",
    "Сравним такую медиану с теми, что мы проверяли выше."
   ]
  },
  {
   "cell_type": "code",
   "execution_count": 18,
   "metadata": {},
   "outputs": [],
   "source": [
    "def get_custom_median_index(X, p=2):\n",
    "    \"Get index of the multidimensional custom median element of X in R^{m, d}, using p-norm metrics for p >= 1\"\n",
    "    proto_median = np.median(X, axis=0)\n",
    "    dists = calc_p_norm(X - proto_median, p)\n",
    "    median_ind = np.argmin(dists)\n",
    "    return median_ind"
   ]
  },
  {
   "cell_type": "code",
   "execution_count": 19,
   "metadata": {},
   "outputs": [],
   "source": [
    "def plot_median_custom(X, comment=\"\"):\n",
    "    median_1_ind = get_p_median_index(X, p=1)\n",
    "    median_1 = X[median_1_ind]\n",
    "    \n",
    "    median_2_ind = get_p_median_index(X, p=2)\n",
    "    median_2 = X[median_2_ind]\n",
    "    \n",
    "    median_inf_ind = get_p_median_index(X, p=np.inf)\n",
    "    median_inf = X[median_inf_ind]\n",
    "    \n",
    "    median_custom_ind = get_custom_median_index(X)\n",
    "    median_custom = X[median_custom_ind]\n",
    "    \n",
    "    print(\"1-median index: \", median_1_ind)\n",
    "    print(\"2-median index: \", median_2_ind)\n",
    "    print(\"inf-median index: \", median_inf_ind)\n",
    "    print(\"custom median index: \", median_custom_ind)\n",
    "    \n",
    "    plt.xlabel(\"x\")\n",
    "    plt.ylabel(\"y\")\n",
    "    plt.title(\"Median demonstration \" + comment)\n",
    "    plt.scatter(X[:, 0], X[:, 1], marker='.')\n",
    "    plt.scatter(median_1[0], median_1[1], marker='+', label=\"1-median\")\n",
    "    plt.scatter(median_2[0], median_2[1], marker='+', label=\"2-median\")\n",
    "    plt.scatter(median_inf[0], median_inf[1], marker='+', label=\"inf-median\")\n",
    "    plt.scatter(median_custom[0], median_custom[1], marker='+', label=\"custom median\")\n",
    "    plt.legend()\n",
    "    plt.show()"
   ]
  },
  {
   "cell_type": "code",
   "execution_count": 20,
   "metadata": {},
   "outputs": [],
   "source": [
    "X = np.random.rand(100, 2)"
   ]
  },
  {
   "cell_type": "code",
   "execution_count": 21,
   "metadata": {},
   "outputs": [
    {
     "name": "stdout",
     "output_type": "stream",
     "text": [
      "1-median index:  53\n",
      "2-median index:  53\n",
      "inf-median index:  14\n",
      "custom median index:  53\n"
     ]
    },
    {
     "data": {
      "image/png": "[encoded data removed]",
      "text/plain": [
       "<Figure size 432x288 with 1 Axes>"
      ]
     },
     "metadata": {},
     "output_type": "display_data"
    }
   ],
   "source": [
    "plot_median_custom(X)"
   ]
  },
  {
   "cell_type": "code",
   "execution_count": 22,
   "metadata": {},
   "outputs": [
    {
     "name": "stdout",
     "output_type": "stream",
     "text": [
      "1-median index:  53\n",
      "2-median index:  53\n",
      "inf-median index:  53\n",
      "custom median index:  53\n"
     ]
    },
    {
     "data": {
      "image/png": "[encoded data removed]",
      "text/plain": [
       "<Figure size 432x288 with 1 Axes>"
      ]
     },
     "metadata": {},
     "output_type": "display_data"
    }
   ],
   "source": [
    "A = np.array([[0.5, 0],\n",
    "              [0, 2]])\n",
    "plot_median_custom(X.dot(A), \"after non-trivial squeezing\")"
   ]
  },
  {
   "cell_type": "code",
   "execution_count": 23,
   "metadata": {},
   "outputs": [
    {
     "name": "stdout",
     "output_type": "stream",
     "text": [
      "1-median index:  46\n",
      "2-median index:  46\n",
      "inf-median index:  46\n",
      "custom median index:  46\n"
     ]
    },
    {
     "data": {
      "image/png": "[encoded data removed]",
      "text/plain": [
       "<Figure size 432x288 with 1 Axes>"
      ]
     },
     "metadata": {},
     "output_type": "display_data"
    }
   ],
   "source": [
    "X_ = np.vstack([X, 2 + 1 * np.random.randn(50, 2)])\n",
    "plot_median_custom(X_, \"in extreme outliers test\")"
   ]
  },
  {
   "cell_type": "code",
   "execution_count": 24,
   "metadata": {},
   "outputs": [
    {
     "name": "stdout",
     "output_type": "stream",
     "text": [
      "1.07 ms ± 4.9 µs per loop (mean ± std. dev. of 7 runs, 1000 loops each)\n"
     ]
    }
   ],
   "source": [
    "%timeit get_custom_median_index(np.random.rand(500, 50))"
   ]
  },
  {
   "cell_type": "code",
   "execution_count": 25,
   "metadata": {},
   "outputs": [
    {
     "name": "stdout",
     "output_type": "stream",
     "text": [
      "217 ms ± 7.84 ms per loop (mean ± std. dev. of 7 runs, 1 loop each)\n"
     ]
    }
   ],
   "source": [
    "%timeit get_p_median_index(np.random.rand(500, 50))"
   ]
  },
  {
   "cell_type": "markdown",
   "metadata": {},
   "source": [
    "Вроде бы результаты приблизительно те же (ну, в двумерном случае, ок), а работает мой способ быстрее. И на том спасибо!"
   ]
  },
  {
   "cell_type": "markdown",
   "metadata": {},
   "source": [
    "### Такие дела..."
   ]
  }
 ],
 "metadata": {
  "kernelspec": {
   "display_name": "Python [default]",
   "language": "python",
   "name": "python3"
  },
  "language_info": {
   "codemirror_mode": {
    "name": "ipython",
    "version": 3
   },
   "file_extension": ".py",
   "mimetype": "text/x-python",
   "name": "python",
   "nbconvert_exporter": "python",
   "pygments_lexer": "ipython3",
   "version": "3.5.5"
  }
 },
 "nbformat": 4,
 "nbformat_minor": 1
}
